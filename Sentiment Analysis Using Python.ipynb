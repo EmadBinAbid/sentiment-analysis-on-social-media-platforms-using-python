{
 "cells": [
  {
   "cell_type": "code",
   "execution_count": 1,
   "metadata": {},
   "outputs": [
    {
     "name": "stderr",
     "output_type": "stream",
     "text": [
      "[nltk_data] Downloading package averaged_perceptron_tagger to\n",
      "[nltk_data]     C:\\Users\\beast\\AppData\\Roaming\\nltk_data...\n",
      "[nltk_data]   Package averaged_perceptron_tagger is already up-to-\n",
      "[nltk_data]       date!\n",
      "[nltk_data] Downloading package punkt to\n",
      "[nltk_data]     C:\\Users\\beast\\AppData\\Roaming\\nltk_data...\n",
      "[nltk_data]   Package punkt is already up-to-date!\n",
      "[nltk_data] Downloading package stopwords to\n",
      "[nltk_data]     C:\\Users\\beast\\AppData\\Roaming\\nltk_data...\n",
      "[nltk_data]   Package stopwords is already up-to-date!\n"
     ]
    }
   ],
   "source": [
    "import nltk\n",
    "import tika\n",
    "nltk.download('averaged_perceptron_tagger')\n",
    "nltk.download('punkt')\n",
    "nltk.download('stopwords')\n",
    "from nltk import pos_tag, word_tokenize, RegexpParser\n",
    "from wordcloud import WordCloud, STOPWORDS, ImageColorGenerator\n",
    "from rake_nltk import Rake\n",
    "import yake\n",
    "import spacy\n",
    "import matplotlib.pyplot as plt\n",
    "from spacy import displacy\n",
    "from collections import Counter\n",
    "import en_core_web_sm\n",
    "from bs4 import BeautifulSoup\n",
    "from tika import parser\n",
    "import requests\n",
    "import re\n",
    "import numpy as np\n",
    "import tweepy as tw\n",
    "import seaborn as sns \n",
    "import json\n",
    "import pandas as pd\n",
    "from textblob import TextBlob"
   ]
  },
  {
   "cell_type": "code",
   "execution_count": 2,
   "metadata": {},
   "outputs": [],
   "source": [
    "#Getting authorization\n",
    "consumer_key = 'Add_your_consumer_key_here'\n",
    "consumer_key_secret = 'Add_your_consumer_key_secret_here'\n",
    "access_token = 'Add_your_access_token_here'\n",
    "access_token_secret = 'Add_your_access_token_secret_here'\n",
    "auth = tw.OAuthHandler(consumer_key, consumer_key_secret)\n",
    "auth.set_access_token(access_token, access_token_secret)\n",
    "api = tw.API(auth, wait_on_rate_limit=True)"
   ]
  },
  {
   "cell_type": "code",
   "execution_count": 41,
   "metadata": {},
   "outputs": [],
   "source": [
    "# Create a custom search term and define the number of tweets\n",
    "search_term = \"#DonaldTrump -filter:retweets\"\n",
    "\n",
    "tweets = tw.Cursor(api.search_tweets,\n",
    "                   q=search_term,\n",
    "                   lang=\"en\",\n",
    "                   since_id='2023-04-04').items(1000)"
   ]
  },
  {
   "cell_type": "code",
   "execution_count": 42,
   "metadata": {},
   "outputs": [],
   "source": [
    "searched_tweets = [t for t in tweets]"
   ]
  },
  {
   "cell_type": "code",
   "execution_count": 43,
   "metadata": {},
   "outputs": [],
   "source": [
    "#Part-3: Creating Dataframe of Tweets\n",
    "\n",
    "#Cleaning searched tweets and converting into Dataframe\n",
    "my_list_of_dicts = []\n",
    "for each_json_tweet in searched_tweets:\n",
    "    my_list_of_dicts.append(each_json_tweet._json)\n",
    "    \n",
    "with open('tweet_json_FM_Data.txt', 'w') as file:\n",
    "        file.write(json.dumps(my_list_of_dicts, indent=4))\n",
    "        \n",
    "my_demo_list = []\n",
    "with open('tweet_json_FM_Data.txt', encoding='utf-8') as json_file:  \n",
    "    all_data = json.load(json_file)\n",
    "    for each_dictionary in all_data:\n",
    "        tweet_id = each_dictionary['id']\n",
    "        text = each_dictionary['text']\n",
    "        favorite_count = each_dictionary['favorite_count']\n",
    "        retweet_count = each_dictionary['retweet_count']\n",
    "        created_at = each_dictionary['created_at']\n",
    "        my_demo_list.append({'tweet_id': str(tweet_id),\n",
    "                             'text': str(text),\n",
    "                             'favorite_count': int(favorite_count),\n",
    "                             'retweet_count': int(retweet_count),\n",
    "                             'created_at': created_at,\n",
    "                            })\n",
    "        \n",
    "        tweet_dataset = pd.DataFrame(my_demo_list, columns = \n",
    "                                  ['tweet_id', 'text', \n",
    "                                   'favorite_count', 'retweet_count', \n",
    "                                   'created_at'])\n",
    "    \n",
    "#Writing tweet dataset ti csv file for future reference\n",
    "tweet_dataset.to_csv('tweet_data_FM.csv',index=False)"
   ]
  },
  {
   "cell_type": "markdown",
   "metadata": {},
   "source": [
    "For cleaning tweets"
   ]
  },
  {
   "cell_type": "code",
   "execution_count": 44,
   "metadata": {},
   "outputs": [],
   "source": [
    "def remove_url(txt):\n",
    "    #Replace URLs found in a text string with nothing\n",
    "    return \" \".join(re.sub(\"([^0-9A-Za-z \\t])|(\\w+:\\/\\/\\S+)\", \"\", txt).split())"
   ]
  },
  {
   "cell_type": "code",
   "execution_count": 45,
   "metadata": {},
   "outputs": [],
   "source": [
    "#Removing @ handle\n",
    "def remove_pattern(input_txt, pattern):\n",
    "    r = re.findall(pattern, input_txt)\n",
    "    for i in r:\n",
    "        input_txt = re.sub(i, '', input_txt)\n",
    "        \n",
    "    return input_txt "
   ]
  },
  {
   "cell_type": "code",
   "execution_count": 46,
   "metadata": {},
   "outputs": [],
   "source": [
    "tweet_dataset['text'] = np.vectorize(remove_url)(tweet_dataset['text'])"
   ]
  },
  {
   "cell_type": "code",
   "execution_count": 47,
   "metadata": {},
   "outputs": [],
   "source": [
    "tweet_dataset['text'] = np.vectorize(remove_pattern)(tweet_dataset['text'], \"@[\\w]*\")"
   ]
  },
  {
   "cell_type": "code",
   "execution_count": 48,
   "metadata": {},
   "outputs": [],
   "source": [
    "#Writing tweet dataset to csv file for future reference\n",
    "tweet_dataset.to_csv('tweet_data_clean_FM.csv',index=False)"
   ]
  },
  {
   "cell_type": "code",
   "execution_count": 49,
   "metadata": {},
   "outputs": [],
   "source": [
    "tweet_dataset = pd.read_csv('tweet_data_clean_FM.csv')"
   ]
  },
  {
   "cell_type": "markdown",
   "metadata": {},
   "source": [
    "Determining Sentiment of the tweet"
   ]
  },
  {
   "cell_type": "code",
   "execution_count": 50,
   "metadata": {},
   "outputs": [],
   "source": [
    "def tweet_sentiment(txt):\n",
    "    analysis = TextBlob(txt)\n",
    "    if analysis.sentiment[0]>=0:\n",
    "       res = 'positive'\n",
    "    else:\n",
    "       res= 'negative'\n",
    "    return(res)"
   ]
  },
  {
   "cell_type": "markdown",
   "metadata": {},
   "source": [
    "Positive Sentiment Tweets"
   ]
  },
  {
   "cell_type": "code",
   "execution_count": 51,
   "metadata": {},
   "outputs": [
    {
     "data": {
      "text/plain": [
       "1      The 16 billion FoxDominion trial has begunDomi...\n",
       "2                   Save AfricanDonaldJChump DonaldTrump\n",
       "3                             DonaldTrump best president\n",
       "4      AMEN Unless God blesses us with someone else h...\n",
       "5      DonaldTrump had so far not gotten back on Twit...\n",
       "                             ...                        \n",
       "984    Opinion Jim Jordan holds a hearing to help Tru...\n",
       "987    Former US President Donald Trump earned betwee...\n",
       "989    ProRon DeSantis Group Launches Puzzling New At...\n",
       "991    Aizen PowerOne Simple Way To Maintain Normal E...\n",
       "997    PapiTrumpo AwesomeIts nice to see the People C...\n",
       "Name: text, Length: 484, dtype: object"
      ]
     },
     "execution_count": 51,
     "metadata": {},
     "output_type": "execute_result"
    }
   ],
   "source": [
    "tweet_dataset['sentiment'] = np.vectorize(tweet_sentiment)(tweet_dataset['text'].astype(str))\n",
    "tweet_dataset[tweet_dataset['sentiment'] == 'positive']['text']"
   ]
  },
  {
   "cell_type": "markdown",
   "metadata": {},
   "source": [
    "Negative Sentiment Tweet"
   ]
  },
  {
   "cell_type": "code",
   "execution_count": 52,
   "metadata": {},
   "outputs": [
    {
     "data": {
      "text/plain": [
       "0      Random Trump randomtrump trump donaldtrump gip...\n",
       "6      Random Trump randomtrump trump donaldtrump gip...\n",
       "10     Random Trump randomtrump trump donaldtrump gip...\n",
       "12     Random Trump randomtrump trump donaldtrump gip...\n",
       "13     Round 2 DonaldTrump TrumpTradingCards collectt...\n",
       "                             ...                        \n",
       "994    Random Trump randomtrump trump donaldtrump gip...\n",
       "995    Random Trump randomtrump trump donaldtrump gip...\n",
       "996    Random Trump randomtrump trump donaldtrump gip...\n",
       "998    Random Trump randomtrump trump donaldtrump gip...\n",
       "999    Random Trump randomtrump trump donaldtrump gip...\n",
       "Name: text, Length: 516, dtype: object"
      ]
     },
     "execution_count": 52,
     "metadata": {},
     "output_type": "execute_result"
    }
   ],
   "source": [
    "tweet_dataset['sentiment'] = np.vectorize(tweet_sentiment)(tweet_dataset['text'].astype(str))\n",
    "tweet_dataset[tweet_dataset['sentiment'] == 'negative']['text']"
   ]
  },
  {
   "cell_type": "code",
   "execution_count": 53,
   "metadata": {},
   "outputs": [
    {
     "data": {
      "text/html": [
       "<div>\n",
       "<style scoped>\n",
       "    .dataframe tbody tr th:only-of-type {\n",
       "        vertical-align: middle;\n",
       "    }\n",
       "\n",
       "    .dataframe tbody tr th {\n",
       "        vertical-align: top;\n",
       "    }\n",
       "\n",
       "    .dataframe thead th {\n",
       "        text-align: right;\n",
       "    }\n",
       "</style>\n",
       "<table border=\"1\" class=\"dataframe\">\n",
       "  <thead>\n",
       "    <tr style=\"text-align: right;\">\n",
       "      <th></th>\n",
       "      <th>tweet_id</th>\n",
       "      <th>text</th>\n",
       "      <th>favorite_count</th>\n",
       "      <th>retweet_count</th>\n",
       "      <th>created_at</th>\n",
       "      <th>sentiment</th>\n",
       "    </tr>\n",
       "  </thead>\n",
       "  <tbody>\n",
       "    <tr>\n",
       "      <th>0</th>\n",
       "      <td>1648399845902761986</td>\n",
       "      <td>Random Trump randomtrump trump donaldtrump gip...</td>\n",
       "      <td>0</td>\n",
       "      <td>0</td>\n",
       "      <td>Tue Apr 18 18:55:23 +0000 2023</td>\n",
       "      <td>negative</td>\n",
       "    </tr>\n",
       "    <tr>\n",
       "      <th>1</th>\n",
       "      <td>1648399655229865984</td>\n",
       "      <td>The 16 billion FoxDominion trial has begunDomi...</td>\n",
       "      <td>0</td>\n",
       "      <td>0</td>\n",
       "      <td>Tue Apr 18 18:54:38 +0000 2023</td>\n",
       "      <td>positive</td>\n",
       "    </tr>\n",
       "    <tr>\n",
       "      <th>2</th>\n",
       "      <td>1648399463260602374</td>\n",
       "      <td>Save AfricanDonaldJChump DonaldTrump</td>\n",
       "      <td>0</td>\n",
       "      <td>0</td>\n",
       "      <td>Tue Apr 18 18:53:52 +0000 2023</td>\n",
       "      <td>positive</td>\n",
       "    </tr>\n",
       "    <tr>\n",
       "      <th>3</th>\n",
       "      <td>1648399437272870912</td>\n",
       "      <td>DonaldTrump best president</td>\n",
       "      <td>1</td>\n",
       "      <td>0</td>\n",
       "      <td>Tue Apr 18 18:53:46 +0000 2023</td>\n",
       "      <td>positive</td>\n",
       "    </tr>\n",
       "    <tr>\n",
       "      <th>4</th>\n",
       "      <td>1648398867078021120</td>\n",
       "      <td>AMEN Unless God blesses us with someone else h...</td>\n",
       "      <td>0</td>\n",
       "      <td>0</td>\n",
       "      <td>Tue Apr 18 18:51:30 +0000 2023</td>\n",
       "      <td>positive</td>\n",
       "    </tr>\n",
       "    <tr>\n",
       "      <th>5</th>\n",
       "      <td>1648398607035559937</td>\n",
       "      <td>DonaldTrump had so far not gotten back on Twit...</td>\n",
       "      <td>0</td>\n",
       "      <td>0</td>\n",
       "      <td>Tue Apr 18 18:50:28 +0000 2023</td>\n",
       "      <td>positive</td>\n",
       "    </tr>\n",
       "    <tr>\n",
       "      <th>6</th>\n",
       "      <td>1648398586013425678</td>\n",
       "      <td>Random Trump randomtrump trump donaldtrump gip...</td>\n",
       "      <td>0</td>\n",
       "      <td>0</td>\n",
       "      <td>Tue Apr 18 18:50:23 +0000 2023</td>\n",
       "      <td>negative</td>\n",
       "    </tr>\n",
       "    <tr>\n",
       "      <th>7</th>\n",
       "      <td>1648398364789055508</td>\n",
       "      <td>Donald Trump returns to Instagram with bizarre...</td>\n",
       "      <td>0</td>\n",
       "      <td>0</td>\n",
       "      <td>Tue Apr 18 18:49:30 +0000 2023</td>\n",
       "      <td>positive</td>\n",
       "    </tr>\n",
       "    <tr>\n",
       "      <th>8</th>\n",
       "      <td>1648398206458540036</td>\n",
       "      <td>RepMTG you realize during the timeline you ran...</td>\n",
       "      <td>0</td>\n",
       "      <td>0</td>\n",
       "      <td>Tue Apr 18 18:48:52 +0000 2023</td>\n",
       "      <td>positive</td>\n",
       "    </tr>\n",
       "    <tr>\n",
       "      <th>9</th>\n",
       "      <td>1648397581184016390</td>\n",
       "      <td>Free desktop background Superman DonaldTrump d...</td>\n",
       "      <td>0</td>\n",
       "      <td>0</td>\n",
       "      <td>Tue Apr 18 18:46:23 +0000 2023</td>\n",
       "      <td>positive</td>\n",
       "    </tr>\n",
       "    <tr>\n",
       "      <th>10</th>\n",
       "      <td>1648397351193550849</td>\n",
       "      <td>Random Trump randomtrump trump donaldtrump gip...</td>\n",
       "      <td>0</td>\n",
       "      <td>0</td>\n",
       "      <td>Tue Apr 18 18:45:28 +0000 2023</td>\n",
       "      <td>negative</td>\n",
       "    </tr>\n",
       "    <tr>\n",
       "      <th>11</th>\n",
       "      <td>1648397309976125450</td>\n",
       "      <td>Disgraced Former President Donald Trump NFTs f...</td>\n",
       "      <td>2</td>\n",
       "      <td>0</td>\n",
       "      <td>Tue Apr 18 18:45:19 +0000 2023</td>\n",
       "      <td>positive</td>\n",
       "    </tr>\n",
       "    <tr>\n",
       "      <th>12</th>\n",
       "      <td>1648396067824607241</td>\n",
       "      <td>Random Trump randomtrump trump donaldtrump gip...</td>\n",
       "      <td>0</td>\n",
       "      <td>0</td>\n",
       "      <td>Tue Apr 18 18:40:22 +0000 2023</td>\n",
       "      <td>negative</td>\n",
       "    </tr>\n",
       "    <tr>\n",
       "      <th>13</th>\n",
       "      <td>1648395493498576896</td>\n",
       "      <td>Round 2 DonaldTrump TrumpTradingCards collectt...</td>\n",
       "      <td>1</td>\n",
       "      <td>0</td>\n",
       "      <td>Tue Apr 18 18:38:06 +0000 2023</td>\n",
       "      <td>negative</td>\n",
       "    </tr>\n",
       "    <tr>\n",
       "      <th>14</th>\n",
       "      <td>1648394839828885506</td>\n",
       "      <td>Random Trump randomtrump trump donaldtrump gip...</td>\n",
       "      <td>0</td>\n",
       "      <td>0</td>\n",
       "      <td>Tue Apr 18 18:35:30 +0000 2023</td>\n",
       "      <td>negative</td>\n",
       "    </tr>\n",
       "    <tr>\n",
       "      <th>15</th>\n",
       "      <td>1648394821696888837</td>\n",
       "      <td>Donald Trump is no longer a New Yorker and got...</td>\n",
       "      <td>0</td>\n",
       "      <td>0</td>\n",
       "      <td>Tue Apr 18 18:35:25 +0000 2023</td>\n",
       "      <td>positive</td>\n",
       "    </tr>\n",
       "    <tr>\n",
       "      <th>16</th>\n",
       "      <td>1648394794115145745</td>\n",
       "      <td>Trump returns to Instagram to market his NFT t...</td>\n",
       "      <td>0</td>\n",
       "      <td>0</td>\n",
       "      <td>Tue Apr 18 18:35:19 +0000 2023</td>\n",
       "      <td>positive</td>\n",
       "    </tr>\n",
       "    <tr>\n",
       "      <th>17</th>\n",
       "      <td>1648394775731511296</td>\n",
       "      <td>JUST IN Former President Donald Trump launches...</td>\n",
       "      <td>2</td>\n",
       "      <td>0</td>\n",
       "      <td>Tue Apr 18 18:35:14 +0000 2023</td>\n",
       "      <td>positive</td>\n",
       "    </tr>\n",
       "    <tr>\n",
       "      <th>18</th>\n",
       "      <td>1648394478019903493</td>\n",
       "      <td>POTUS Unfortunately in the country DonaldTrump...</td>\n",
       "      <td>0</td>\n",
       "      <td>0</td>\n",
       "      <td>Tue Apr 18 18:34:03 +0000 2023</td>\n",
       "      <td>negative</td>\n",
       "    </tr>\n",
       "    <tr>\n",
       "      <th>19</th>\n",
       "      <td>1648394043338924049</td>\n",
       "      <td>Oh what a tangled web we weave when first we p...</td>\n",
       "      <td>3</td>\n",
       "      <td>1</td>\n",
       "      <td>Tue Apr 18 18:32:20 +0000 2023</td>\n",
       "      <td>positive</td>\n",
       "    </tr>\n",
       "  </tbody>\n",
       "</table>\n",
       "</div>"
      ],
      "text/plain": [
       "               tweet_id                                               text  \\\n",
       "0   1648399845902761986  Random Trump randomtrump trump donaldtrump gip...   \n",
       "1   1648399655229865984  The 16 billion FoxDominion trial has begunDomi...   \n",
       "2   1648399463260602374               Save AfricanDonaldJChump DonaldTrump   \n",
       "3   1648399437272870912                         DonaldTrump best president   \n",
       "4   1648398867078021120  AMEN Unless God blesses us with someone else h...   \n",
       "5   1648398607035559937  DonaldTrump had so far not gotten back on Twit...   \n",
       "6   1648398586013425678  Random Trump randomtrump trump donaldtrump gip...   \n",
       "7   1648398364789055508  Donald Trump returns to Instagram with bizarre...   \n",
       "8   1648398206458540036  RepMTG you realize during the timeline you ran...   \n",
       "9   1648397581184016390  Free desktop background Superman DonaldTrump d...   \n",
       "10  1648397351193550849  Random Trump randomtrump trump donaldtrump gip...   \n",
       "11  1648397309976125450  Disgraced Former President Donald Trump NFTs f...   \n",
       "12  1648396067824607241  Random Trump randomtrump trump donaldtrump gip...   \n",
       "13  1648395493498576896  Round 2 DonaldTrump TrumpTradingCards collectt...   \n",
       "14  1648394839828885506  Random Trump randomtrump trump donaldtrump gip...   \n",
       "15  1648394821696888837  Donald Trump is no longer a New Yorker and got...   \n",
       "16  1648394794115145745  Trump returns to Instagram to market his NFT t...   \n",
       "17  1648394775731511296  JUST IN Former President Donald Trump launches...   \n",
       "18  1648394478019903493  POTUS Unfortunately in the country DonaldTrump...   \n",
       "19  1648394043338924049  Oh what a tangled web we weave when first we p...   \n",
       "\n",
       "    favorite_count  retweet_count                      created_at sentiment  \n",
       "0                0              0  Tue Apr 18 18:55:23 +0000 2023  negative  \n",
       "1                0              0  Tue Apr 18 18:54:38 +0000 2023  positive  \n",
       "2                0              0  Tue Apr 18 18:53:52 +0000 2023  positive  \n",
       "3                1              0  Tue Apr 18 18:53:46 +0000 2023  positive  \n",
       "4                0              0  Tue Apr 18 18:51:30 +0000 2023  positive  \n",
       "5                0              0  Tue Apr 18 18:50:28 +0000 2023  positive  \n",
       "6                0              0  Tue Apr 18 18:50:23 +0000 2023  negative  \n",
       "7                0              0  Tue Apr 18 18:49:30 +0000 2023  positive  \n",
       "8                0              0  Tue Apr 18 18:48:52 +0000 2023  positive  \n",
       "9                0              0  Tue Apr 18 18:46:23 +0000 2023  positive  \n",
       "10               0              0  Tue Apr 18 18:45:28 +0000 2023  negative  \n",
       "11               2              0  Tue Apr 18 18:45:19 +0000 2023  positive  \n",
       "12               0              0  Tue Apr 18 18:40:22 +0000 2023  negative  \n",
       "13               1              0  Tue Apr 18 18:38:06 +0000 2023  negative  \n",
       "14               0              0  Tue Apr 18 18:35:30 +0000 2023  negative  \n",
       "15               0              0  Tue Apr 18 18:35:25 +0000 2023  positive  \n",
       "16               0              0  Tue Apr 18 18:35:19 +0000 2023  positive  \n",
       "17               2              0  Tue Apr 18 18:35:14 +0000 2023  positive  \n",
       "18               0              0  Tue Apr 18 18:34:03 +0000 2023  negative  \n",
       "19               3              1  Tue Apr 18 18:32:20 +0000 2023  positive  "
      ]
     },
     "execution_count": 53,
     "metadata": {},
     "output_type": "execute_result"
    }
   ],
   "source": [
    "tweet_dataset.head(20)"
   ]
  },
  {
   "cell_type": "code",
   "execution_count": 54,
   "metadata": {},
   "outputs": [
    {
     "name": "stdout",
     "output_type": "stream",
     "text": [
      "Maximum number of retweets: 24\n",
      "Sentiment of the tweet with maximum retweets: 792    positive\n",
      "Name: sentiment, dtype: object\n",
      "The text of the tweet with the maximum retweets: 792    Trump Surges Ahead in New Polls with a 30 poin...\n",
      "Name: text, dtype: object\n"
     ]
    }
   ],
   "source": [
    "max_retweets = tweet_dataset['retweet_count']\n",
    "max_value = max_retweets.max()\n",
    "print(\"Maximum number of retweets:\", max_value)\n",
    "max_tweet_senti = tweet_dataset[tweet_dataset['retweet_count'] == max_value]['sentiment']\n",
    "max_tweet_text = tweet_dataset[tweet_dataset['retweet_count'] == max_value]['text']\n",
    "\n",
    "\n",
    "print(\"Sentiment of the tweet with maximum retweets:\", max_tweet_senti)\n",
    "print(\"The text of the tweet with the maximum retweets:\", max_tweet_text)\n"
   ]
  },
  {
   "cell_type": "markdown",
   "metadata": {},
   "source": [
    "Displaying the sentiments below in the plot"
   ]
  },
  {
   "cell_type": "code",
   "execution_count": 55,
   "metadata": {},
   "outputs": [
    {
     "data": {
      "image/png": "[encoded data removed]",
      "text/plain": [
       "<Figure size 432x288 with 1 Axes>"
      ]
     },
     "metadata": {
      "needs_background": "light"
     },
     "output_type": "display_data"
    }
   ],
   "source": [
    "corpus = ' '.join(tweet_dataset.astype(str).text)\n",
    "# Create stopword list:\n",
    "stopwords = set(STOPWORDS)\n",
    "# stopwords.update([\"T\", \"J\", \"D\", \"S\", \"M\", \"H\", \"et al\"])\n",
    "\n",
    "# Generate a word cloud image\n",
    "wordcloud = WordCloud(stopwords=stopwords, max_font_size=50, max_words=100, background_color=\"white\").generate(corpus)\n",
    "\n",
    "# Display the generated image:\n",
    "# the matplotlib way:\n",
    "plt.imshow(wordcloud, interpolation='bilinear')\n",
    "plt.axis(\"off\")\n",
    "plt.show()"
   ]
  },
  {
   "cell_type": "markdown",
   "metadata": {},
   "source": [
    "Timeline visualization plot showing counts of positive and negative sentiments with their counts over the period of time."
   ]
  },
  {
   "cell_type": "markdown",
   "metadata": {},
   "source": [
    "Bar-Graph Visualization"
   ]
  },
  {
   "cell_type": "code",
   "execution_count": 56,
   "metadata": {},
   "outputs": [
    {
     "name": "stdout",
     "output_type": "stream",
     "text": [
      "Total positive sentiments 484\n",
      "Total negative sentiments 516\n"
     ]
    },
    {
     "data": {
      "image/png": "[encoded data removed]",
      "text/plain": [
       "<Figure size 432x288 with 1 Axes>"
      ]
     },
     "metadata": {
      "needs_background": "light"
     },
     "output_type": "display_data"
    }
   ],
   "source": [
    "positive_counts = tweet_dataset['sentiment'].value_counts().positive\n",
    "negative_counts = tweet_dataset['sentiment'].value_counts().negative\n",
    "print(\"Total positive sentiments\", positive_counts)\n",
    "print(\"Total negative sentiments\", negative_counts)\n",
    "\n",
    "\n",
    "fig, ax2 = plt.subplots(1,1)\n",
    "arr = np.array(list(tweet_dataset['created_at'].value_counts()))\n",
    "plt.hist(arr)\n",
    "ax2.set_xlabel('Time Data')\n",
    "ax2.set_ylabel('Number of Sentiments')\n",
    "plt.show()"
   ]
  }
 ],
 "metadata": {
  "interpreter": {
   "hash": "35a72778197f4312582c8f939cdfabf317140684716d4d6c05659da63d378da2"
  },
  "kernelspec": {
   "display_name": "Python 3.8.8 64-bit",
   "language": "python",
   "name": "python3"
  },
  "language_info": {
   "codemirror_mode": {
    "name": "ipython",
    "version": 3
   },
   "file_extension": ".py",
   "mimetype": "text/x-python",
   "name": "python",
   "nbconvert_exporter": "python",
   "pygments_lexer": "ipython3",
   "version": "3.10.5"
  },
  "orig_nbformat": 4
 },
 "nbformat": 4,
 "nbformat_minor": 2
}
